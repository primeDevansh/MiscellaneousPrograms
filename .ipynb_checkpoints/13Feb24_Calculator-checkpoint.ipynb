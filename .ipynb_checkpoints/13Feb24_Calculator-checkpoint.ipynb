{
 "cells": [
  {
   "cell_type": "code",
   "execution_count": null,
   "id": "953058ed-55e3-41ea-bc1b-3f42ca532088",
   "metadata": {},
   "outputs": [],
   "source": [
    "a = float(input(\"Enter first number a: \"))\n",
    "b = float(input(\"Enter second number b: \"))\n",
    "\n",
    "print(\"Enter 1 for addition a + b\")\n",
    "print(\"Enter 2 for subtraction a - b\")\n",
    "print(\"Enter 3 for exponentiation a**b\")\n",
    "print(\"Enter 4 for division a/b\")\n",
    "print(\"Enter 5 for multiplication a * b\")\n",
    "\n",
    "choice = int(input(\"Enter your choice here: \", end = \"\"))\n",
    "\n",
    "print(\"Operation perfo\n",
    "result = 0\n",
    "if choice == 1:\n",
    "    result = a + b\n",
    "    print\n",
    "    "
   ]
  }
 ],
 "metadata": {
  "kernelspec": {
   "display_name": "Python 3 (ipykernel)",
   "language": "python",
   "name": "python3"
  },
  "language_info": {
   "codemirror_mode": {
    "name": "ipython",
    "version": 3
   },
   "file_extension": ".py",
   "mimetype": "text/x-python",
   "name": "python",
   "nbconvert_exporter": "python",
   "pygments_lexer": "ipython3",
   "version": "3.10.0"
  }
 },
 "nbformat": 4,
 "nbformat_minor": 5
}
